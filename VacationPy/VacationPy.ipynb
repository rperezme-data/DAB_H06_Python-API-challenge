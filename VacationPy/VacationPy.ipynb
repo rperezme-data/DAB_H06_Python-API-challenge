{
 "cells": [
  {
   "cell_type": "markdown",
   "metadata": {},
   "source": [
    "# VacationPy\n",
    "----\n",
    "\n",
    "#### Note\n",
    "* Keep an eye on your API usage. Use https://developers.google.com/maps/reporting/gmp-reporting as reference for how to monitor your usage and billing.\n",
    "\n",
    "* Instructions have been included for each segment. You do not have to follow them exactly, but they are included to help you think through the steps."
   ]
  },
  {
   "cell_type": "code",
   "execution_count": 1,
   "metadata": {},
   "outputs": [],
   "source": [
    "# Dependencies and Setup\n",
    "import matplotlib.pyplot as plt\n",
    "import pandas as pd\n",
    "import numpy as np\n",
    "import requests\n",
    "import gmaps\n",
    "import os\n",
    "\n",
    "# Import API key\n",
    "from api_keys import g_key"
   ]
  },
  {
   "cell_type": "markdown",
   "metadata": {},
   "source": [
    "### Store Part I results into DataFrame\n",
    "* Load the csv exported in Part I to a DataFrame"
   ]
  },
  {
   "cell_type": "code",
   "execution_count": 18,
   "metadata": {},
   "outputs": [
    {
     "data": {
      "text/html": [
       "<div>\n",
       "<style scoped>\n",
       "    .dataframe tbody tr th:only-of-type {\n",
       "        vertical-align: middle;\n",
       "    }\n",
       "\n",
       "    .dataframe tbody tr th {\n",
       "        vertical-align: top;\n",
       "    }\n",
       "\n",
       "    .dataframe thead th {\n",
       "        text-align: right;\n",
       "    }\n",
       "</style>\n",
       "<table border=\"1\" class=\"dataframe\">\n",
       "  <thead>\n",
       "    <tr style=\"text-align: right;\">\n",
       "      <th></th>\n",
       "      <th>City</th>\n",
       "      <th>Lat</th>\n",
       "      <th>Lng</th>\n",
       "      <th>Max Temp</th>\n",
       "      <th>Humidity</th>\n",
       "      <th>Cloudiness</th>\n",
       "      <th>Wind Speed</th>\n",
       "      <th>Country</th>\n",
       "      <th>Date</th>\n",
       "    </tr>\n",
       "  </thead>\n",
       "  <tbody>\n",
       "    <tr>\n",
       "      <th>0</th>\n",
       "      <td>Punta Arenas</td>\n",
       "      <td>-53.1500</td>\n",
       "      <td>-70.9167</td>\n",
       "      <td>42.80</td>\n",
       "      <td>75</td>\n",
       "      <td>0</td>\n",
       "      <td>6.91</td>\n",
       "      <td>CL</td>\n",
       "      <td>1619720720</td>\n",
       "    </tr>\n",
       "    <tr>\n",
       "      <th>1</th>\n",
       "      <td>Ténenkou</td>\n",
       "      <td>14.4572</td>\n",
       "      <td>-4.9169</td>\n",
       "      <td>103.69</td>\n",
       "      <td>17</td>\n",
       "      <td>76</td>\n",
       "      <td>13.04</td>\n",
       "      <td>ML</td>\n",
       "      <td>1619720952</td>\n",
       "    </tr>\n",
       "    <tr>\n",
       "      <th>2</th>\n",
       "      <td>Lamar</td>\n",
       "      <td>33.6668</td>\n",
       "      <td>-95.5836</td>\n",
       "      <td>73.40</td>\n",
       "      <td>78</td>\n",
       "      <td>90</td>\n",
       "      <td>6.96</td>\n",
       "      <td>US</td>\n",
       "      <td>1619720952</td>\n",
       "    </tr>\n",
       "    <tr>\n",
       "      <th>3</th>\n",
       "      <td>Torbat-e Jām</td>\n",
       "      <td>35.2440</td>\n",
       "      <td>60.6225</td>\n",
       "      <td>73.08</td>\n",
       "      <td>39</td>\n",
       "      <td>93</td>\n",
       "      <td>14.85</td>\n",
       "      <td>IR</td>\n",
       "      <td>1619720953</td>\n",
       "    </tr>\n",
       "    <tr>\n",
       "      <th>4</th>\n",
       "      <td>Busselton</td>\n",
       "      <td>-33.6500</td>\n",
       "      <td>115.3333</td>\n",
       "      <td>50.00</td>\n",
       "      <td>98</td>\n",
       "      <td>86</td>\n",
       "      <td>14.18</td>\n",
       "      <td>AU</td>\n",
       "      <td>1619720747</td>\n",
       "    </tr>\n",
       "  </tbody>\n",
       "</table>\n",
       "</div>"
      ],
      "text/plain": [
       "           City      Lat       Lng  Max Temp  Humidity  Cloudiness  \\\n",
       "0  Punta Arenas -53.1500  -70.9167     42.80        75           0   \n",
       "1      Ténenkou  14.4572   -4.9169    103.69        17          76   \n",
       "2         Lamar  33.6668  -95.5836     73.40        78          90   \n",
       "3  Torbat-e Jām  35.2440   60.6225     73.08        39          93   \n",
       "4     Busselton -33.6500  115.3333     50.00        98          86   \n",
       "\n",
       "   Wind Speed Country        Date  \n",
       "0        6.91      CL  1619720720  \n",
       "1       13.04      ML  1619720952  \n",
       "2        6.96      US  1619720952  \n",
       "3       14.85      IR  1619720953  \n",
       "4       14.18      AU  1619720747  "
      ]
     },
     "execution_count": 18,
     "metadata": {},
     "output_type": "execute_result"
    }
   ],
   "source": [
    "## Load Cities.csv as DataFrame\n",
    "cities_df = pd.read_csv('../WeatherPy/Output/Cities.csv')\n",
    "## Display DataFrame preview\n",
    "cities_df.head()"
   ]
  },
  {
   "cell_type": "markdown",
   "metadata": {},
   "source": [
    "### Humidity Heatmap\n",
    "* Configure gmaps.\n",
    "* Use the Lat and Lng as locations and Humidity as the weight.\n",
    "* Add Heatmap layer to map."
   ]
  },
  {
   "cell_type": "code",
   "execution_count": 3,
   "metadata": {},
   "outputs": [],
   "source": [
    "## Configure gmaps with API key\n",
    "gmaps.configure(api_key=g_key)"
   ]
  },
  {
   "cell_type": "code",
   "execution_count": 4,
   "metadata": {},
   "outputs": [
    {
     "data": {
      "text/plain": [
       "float"
      ]
     },
     "execution_count": 4,
     "metadata": {},
     "output_type": "execute_result"
    }
   ],
   "source": [
    "locations = cities_df[['Lat', 'Lng']].values.tolist()\n",
    "type(locations[0][0])"
   ]
  },
  {
   "cell_type": "code",
   "execution_count": 5,
   "metadata": {},
   "outputs": [
    {
     "data": {
      "text/plain": [
       "100"
      ]
     },
     "execution_count": 5,
     "metadata": {},
     "output_type": "execute_result"
    }
   ],
   "source": [
    "max_humidity = cities_df['Humidity'].max()\n",
    "max_humidity"
   ]
  },
  {
   "cell_type": "code",
   "execution_count": 6,
   "metadata": {},
   "outputs": [
    {
     "data": {
      "application/vnd.jupyter.widget-view+json": {
       "model_id": "1fe3120afa9e42cb9b12efd4d5df1e78",
       "version_major": 2,
       "version_minor": 0
      },
      "text/plain": [
       "Figure(layout=FigureLayout(height='420px'))"
      ]
     },
     "metadata": {},
     "output_type": "display_data"
    }
   ],
   "source": [
    "fig = gmaps.figure(center=(15,15), zoom_level=2.1)\n",
    "\n",
    "locations = cities_df[['Lat', 'Lng']].values.tolist()\n",
    "weights = cities_df['Humidity'].values.tolist()\n",
    "max_humidity = cities_df['Humidity'].max()\n",
    "\n",
    "heat_layer = gmaps.heatmap_layer(\n",
    "    locations=locations,\n",
    "    weights=weights,\n",
    "    dissipating=False,\n",
    "    max_intensity=max_humidity,\n",
    "    point_radius = 3\n",
    ")\n",
    "\n",
    "fig.add_layer(heat_layer)\n",
    "fig"
   ]
  },
  {
   "cell_type": "markdown",
   "metadata": {},
   "source": [
    "### Create new DataFrame fitting weather criteria\n",
    "* Narrow down the cities to fit weather conditions.\n",
    "* Drop any rows will null values."
   ]
  },
  {
   "cell_type": "code",
   "execution_count": 7,
   "metadata": {},
   "outputs": [
    {
     "data": {
      "text/plain": [
       "562"
      ]
     },
     "execution_count": 7,
     "metadata": {},
     "output_type": "execute_result"
    }
   ],
   "source": [
    "len(cities_df)"
   ]
  },
  {
   "cell_type": "code",
   "execution_count": 8,
   "metadata": {},
   "outputs": [],
   "source": [
    "ideal_conditions = (cities_df['Max Temp'] > 70) & \\\n",
    "                   (cities_df['Max Temp'] < 80) & \\\n",
    "                   (cities_df['Wind Speed'] < 10) & \\\n",
    "                   (cities_df['Cloudiness'] == 0)"
   ]
  },
  {
   "cell_type": "code",
   "execution_count": 9,
   "metadata": {},
   "outputs": [
    {
     "data": {
      "text/plain": [
       "16"
      ]
     },
     "execution_count": 9,
     "metadata": {},
     "output_type": "execute_result"
    }
   ],
   "source": [
    "sum(ideal_conditions)"
   ]
  },
  {
   "cell_type": "code",
   "execution_count": 10,
   "metadata": {},
   "outputs": [],
   "source": [
    "ideal_cities_df = cities_df[['City', 'Country', 'Lat', 'Lng']].loc[ideal_conditions]\n",
    "ideal_cities_df.reset_index(drop=True, inplace=True)\n",
    "ideal_cities_df.dropna(axis=0, inplace=True)"
   ]
  },
  {
   "cell_type": "code",
   "execution_count": 11,
   "metadata": {},
   "outputs": [
    {
     "data": {
      "text/html": [
       "<div>\n",
       "<style scoped>\n",
       "    .dataframe tbody tr th:only-of-type {\n",
       "        vertical-align: middle;\n",
       "    }\n",
       "\n",
       "    .dataframe tbody tr th {\n",
       "        vertical-align: top;\n",
       "    }\n",
       "\n",
       "    .dataframe thead th {\n",
       "        text-align: right;\n",
       "    }\n",
       "</style>\n",
       "<table border=\"1\" class=\"dataframe\">\n",
       "  <thead>\n",
       "    <tr style=\"text-align: right;\">\n",
       "      <th></th>\n",
       "      <th>City</th>\n",
       "      <th>Country</th>\n",
       "      <th>Lat</th>\n",
       "      <th>Lng</th>\n",
       "    </tr>\n",
       "  </thead>\n",
       "  <tbody>\n",
       "    <tr>\n",
       "      <th>0</th>\n",
       "      <td>Lompoc</td>\n",
       "      <td>US</td>\n",
       "      <td>34.6391</td>\n",
       "      <td>-120.4579</td>\n",
       "    </tr>\n",
       "    <tr>\n",
       "      <th>1</th>\n",
       "      <td>Karratha</td>\n",
       "      <td>AU</td>\n",
       "      <td>-20.7377</td>\n",
       "      <td>116.8463</td>\n",
       "    </tr>\n",
       "    <tr>\n",
       "      <th>2</th>\n",
       "      <td>Chui</td>\n",
       "      <td>UY</td>\n",
       "      <td>-33.6971</td>\n",
       "      <td>-53.4616</td>\n",
       "    </tr>\n",
       "    <tr>\n",
       "      <th>3</th>\n",
       "      <td>Inhambane</td>\n",
       "      <td>MZ</td>\n",
       "      <td>-23.8650</td>\n",
       "      <td>35.3833</td>\n",
       "    </tr>\n",
       "    <tr>\n",
       "      <th>4</th>\n",
       "      <td>Guangzhou</td>\n",
       "      <td>CN</td>\n",
       "      <td>23.1167</td>\n",
       "      <td>113.2500</td>\n",
       "    </tr>\n",
       "    <tr>\n",
       "      <th>5</th>\n",
       "      <td>Kiryat Gat</td>\n",
       "      <td>IL</td>\n",
       "      <td>31.6100</td>\n",
       "      <td>34.7642</td>\n",
       "    </tr>\n",
       "    <tr>\n",
       "      <th>6</th>\n",
       "      <td>Saint-Philippe</td>\n",
       "      <td>RE</td>\n",
       "      <td>-21.3585</td>\n",
       "      <td>55.7679</td>\n",
       "    </tr>\n",
       "    <tr>\n",
       "      <th>7</th>\n",
       "      <td>La Plata</td>\n",
       "      <td>AR</td>\n",
       "      <td>-34.9215</td>\n",
       "      <td>-57.9545</td>\n",
       "    </tr>\n",
       "    <tr>\n",
       "      <th>8</th>\n",
       "      <td>Rocha</td>\n",
       "      <td>UY</td>\n",
       "      <td>-34.4833</td>\n",
       "      <td>-54.3333</td>\n",
       "    </tr>\n",
       "    <tr>\n",
       "      <th>9</th>\n",
       "      <td>San Lorenzo</td>\n",
       "      <td>PY</td>\n",
       "      <td>-25.3333</td>\n",
       "      <td>-57.5333</td>\n",
       "    </tr>\n",
       "    <tr>\n",
       "      <th>10</th>\n",
       "      <td>Ushtobe</td>\n",
       "      <td>KZ</td>\n",
       "      <td>45.2514</td>\n",
       "      <td>77.9838</td>\n",
       "    </tr>\n",
       "    <tr>\n",
       "      <th>11</th>\n",
       "      <td>Saint-Joseph</td>\n",
       "      <td>RE</td>\n",
       "      <td>-21.3667</td>\n",
       "      <td>55.6167</td>\n",
       "    </tr>\n",
       "    <tr>\n",
       "      <th>12</th>\n",
       "      <td>Chiredzi</td>\n",
       "      <td>ZW</td>\n",
       "      <td>-21.0500</td>\n",
       "      <td>31.6667</td>\n",
       "    </tr>\n",
       "    <tr>\n",
       "      <th>13</th>\n",
       "      <td>Maxixe</td>\n",
       "      <td>MZ</td>\n",
       "      <td>-23.8597</td>\n",
       "      <td>35.3472</td>\n",
       "    </tr>\n",
       "    <tr>\n",
       "      <th>14</th>\n",
       "      <td>Neuquén</td>\n",
       "      <td>AR</td>\n",
       "      <td>-38.9516</td>\n",
       "      <td>-68.0591</td>\n",
       "    </tr>\n",
       "    <tr>\n",
       "      <th>15</th>\n",
       "      <td>Dom Pedrito</td>\n",
       "      <td>BR</td>\n",
       "      <td>-30.9828</td>\n",
       "      <td>-54.6731</td>\n",
       "    </tr>\n",
       "  </tbody>\n",
       "</table>\n",
       "</div>"
      ],
      "text/plain": [
       "              City Country      Lat       Lng\n",
       "0           Lompoc      US  34.6391 -120.4579\n",
       "1         Karratha      AU -20.7377  116.8463\n",
       "2             Chui      UY -33.6971  -53.4616\n",
       "3        Inhambane      MZ -23.8650   35.3833\n",
       "4        Guangzhou      CN  23.1167  113.2500\n",
       "5       Kiryat Gat      IL  31.6100   34.7642\n",
       "6   Saint-Philippe      RE -21.3585   55.7679\n",
       "7         La Plata      AR -34.9215  -57.9545\n",
       "8            Rocha      UY -34.4833  -54.3333\n",
       "9      San Lorenzo      PY -25.3333  -57.5333\n",
       "10         Ushtobe      KZ  45.2514   77.9838\n",
       "11    Saint-Joseph      RE -21.3667   55.6167\n",
       "12        Chiredzi      ZW -21.0500   31.6667\n",
       "13          Maxixe      MZ -23.8597   35.3472\n",
       "14         Neuquén      AR -38.9516  -68.0591\n",
       "15     Dom Pedrito      BR -30.9828  -54.6731"
      ]
     },
     "execution_count": 11,
     "metadata": {},
     "output_type": "execute_result"
    }
   ],
   "source": [
    "ideal_cities_df"
   ]
  },
  {
   "cell_type": "markdown",
   "metadata": {},
   "source": [
    "### Hotel Map\n",
    "* Store into variable named `hotel_df`.\n",
    "* Add a \"Hotel Name\" column to the DataFrame.\n",
    "* Set parameters to search for hotels with 5000 meters.\n",
    "* Hit the Google Places API for each city's coordinates.\n",
    "* Store the first Hotel result into the DataFrame.\n",
    "* Plot markers on top of the heatmap."
   ]
  },
  {
   "cell_type": "code",
   "execution_count": 12,
   "metadata": {},
   "outputs": [],
   "source": [
    "## GOOGLE MAPS API\n",
    "\n",
    "## Nearby Search URL\n",
    "nearby_url = \"https://maps.googleapis.com/maps/api/place/nearbysearch/json\"\n",
    "\n",
    "## Nearby Search Parameters\n",
    "params = {\n",
    "    'key': g_key,\n",
    "    'radius': 5000,\n",
    "    'type': \"lodging\",\n",
    "    'language': \"en\"\n",
    "}"
   ]
  },
  {
   "cell_type": "code",
   "execution_count": 13,
   "metadata": {},
   "outputs": [
    {
     "name": "stdout",
     "output_type": "stream",
     "text": [
      "Beginning Data Retrieval\n",
      "------------------------------\n",
      "Processing Lompoc:\n",
      " - First hotel is Holiday Inn Express Lompoc\n",
      "Processing Karratha:\n",
      " - First hotel is ibis Styles Karratha\n",
      "Processing Chui:\n",
      " - First hotel is Nuevo Hotel Plaza\n",
      "Processing Inhambane:\n",
      " - First hotel is Oceano\n",
      "Processing Guangzhou:\n",
      " - First hotel is Guangzhou Hotel\n",
      "Processing Kiryat Gat:\n",
      " - First hotel is OlusHome\n",
      "Processing Saint-Philippe:\n",
      " - First hotel is Chambres d'hôte \"La Trinité\"\n",
      "Processing La Plata:\n",
      " - First hotel is Hotel Corregidor\n",
      "Processing Rocha:\n",
      " - First hotel is Beleza Pura B&B\n",
      "Processing San Lorenzo:\n",
      " - First hotel is Hotel del Sur\n",
      "Processing Ushtobe:\n",
      " - First hotel is Gostinitsa \"Diyar\"\n",
      "Processing Saint-Joseph:\n",
      " - First hotel is \"Plantation Bed and Breakfast\n",
      "Processing Chiredzi:\n",
      " - First hotel is The Nesbitt Arms\n",
      "Processing Maxixe:\n",
      " - First hotel is Oceano\n",
      "Processing Neuquén:\n",
      " - First hotel is Hotel del Comahue\n",
      "Processing Dom Pedrito:\n",
      " - First hotel is Hotel Alexandre\n",
      "------------------------------\n",
      "Data Retrieval Complete\n",
      "------------------------------\n"
     ]
    }
   ],
   "source": [
    "hotel_name = []\n",
    "hotel_lat = []\n",
    "hotel_lng = []\n",
    "\n",
    "## Print Log Header\n",
    "print(\"Beginning Data Retrieval\")\n",
    "print(\"------------------------------\")\n",
    "\n",
    "for index, row in ideal_cities_df.iterrows():\n",
    "    params['location'] = f\"{row['Lat']},{row['Lng']}\"\n",
    "    response = requests.get(nearby_url, params=params).json()\n",
    "    first_result = response['results'][0]\n",
    "    \n",
    "    print(f\"Processing {row['City']}:\")\n",
    "    \n",
    "    try:\n",
    "        print(f\" - First hotel is {first_result['name']}\")\n",
    "        hotel_name.append(first_result['name'])\n",
    "        hotel_lat.append(first_result['geometry']['location']['lat'])\n",
    "        hotel_lng.append(first_result['geometry']['location']['lng'])\n",
    "\n",
    "    except (KeyError, IndexError):\n",
    "        print(\"- Missing field/result... skipping.\")\n",
    "        \n",
    "## Print Log Footer\n",
    "print(\"------------------------------\")        \n",
    "print(\"Data Retrieval Complete\")\n",
    "print(\"------------------------------\")"
   ]
  },
  {
   "cell_type": "code",
   "execution_count": 14,
   "metadata": {},
   "outputs": [
    {
     "data": {
      "text/html": [
       "<div>\n",
       "<style scoped>\n",
       "    .dataframe tbody tr th:only-of-type {\n",
       "        vertical-align: middle;\n",
       "    }\n",
       "\n",
       "    .dataframe tbody tr th {\n",
       "        vertical-align: top;\n",
       "    }\n",
       "\n",
       "    .dataframe thead th {\n",
       "        text-align: right;\n",
       "    }\n",
       "</style>\n",
       "<table border=\"1\" class=\"dataframe\">\n",
       "  <thead>\n",
       "    <tr style=\"text-align: right;\">\n",
       "      <th></th>\n",
       "      <th>Hotel Name</th>\n",
       "      <th>City</th>\n",
       "      <th>Country</th>\n",
       "      <th>Lat</th>\n",
       "      <th>Lng</th>\n",
       "    </tr>\n",
       "  </thead>\n",
       "  <tbody>\n",
       "    <tr>\n",
       "      <th>0</th>\n",
       "      <td>Holiday Inn Express Lompoc</td>\n",
       "      <td>Lompoc</td>\n",
       "      <td>US</td>\n",
       "      <td>34.662502</td>\n",
       "      <td>-120.458466</td>\n",
       "    </tr>\n",
       "    <tr>\n",
       "      <th>1</th>\n",
       "      <td>ibis Styles Karratha</td>\n",
       "      <td>Karratha</td>\n",
       "      <td>AU</td>\n",
       "      <td>-20.732225</td>\n",
       "      <td>116.846744</td>\n",
       "    </tr>\n",
       "    <tr>\n",
       "      <th>2</th>\n",
       "      <td>Nuevo Hotel Plaza</td>\n",
       "      <td>Chui</td>\n",
       "      <td>UY</td>\n",
       "      <td>-33.694177</td>\n",
       "      <td>-53.455633</td>\n",
       "    </tr>\n",
       "    <tr>\n",
       "      <th>3</th>\n",
       "      <td>Oceano</td>\n",
       "      <td>Inhambane</td>\n",
       "      <td>MZ</td>\n",
       "      <td>-23.861426</td>\n",
       "      <td>35.346690</td>\n",
       "    </tr>\n",
       "    <tr>\n",
       "      <th>4</th>\n",
       "      <td>Guangzhou Hotel</td>\n",
       "      <td>Guangzhou</td>\n",
       "      <td>CN</td>\n",
       "      <td>23.115819</td>\n",
       "      <td>113.265594</td>\n",
       "    </tr>\n",
       "    <tr>\n",
       "      <th>5</th>\n",
       "      <td>OlusHome</td>\n",
       "      <td>Kiryat Gat</td>\n",
       "      <td>IL</td>\n",
       "      <td>31.613093</td>\n",
       "      <td>34.716021</td>\n",
       "    </tr>\n",
       "    <tr>\n",
       "      <th>6</th>\n",
       "      <td>Chambres d'hôte \"La Trinité\"</td>\n",
       "      <td>Saint-Philippe</td>\n",
       "      <td>RE</td>\n",
       "      <td>-21.358434</td>\n",
       "      <td>55.770322</td>\n",
       "    </tr>\n",
       "    <tr>\n",
       "      <th>7</th>\n",
       "      <td>Hotel Corregidor</td>\n",
       "      <td>La Plata</td>\n",
       "      <td>AR</td>\n",
       "      <td>-34.915296</td>\n",
       "      <td>-57.946396</td>\n",
       "    </tr>\n",
       "    <tr>\n",
       "      <th>8</th>\n",
       "      <td>Beleza Pura B&amp;B</td>\n",
       "      <td>Rocha</td>\n",
       "      <td>UY</td>\n",
       "      <td>-34.490105</td>\n",
       "      <td>-54.322433</td>\n",
       "    </tr>\n",
       "    <tr>\n",
       "      <th>9</th>\n",
       "      <td>Hotel del Sur</td>\n",
       "      <td>San Lorenzo</td>\n",
       "      <td>PY</td>\n",
       "      <td>-25.335532</td>\n",
       "      <td>-57.531631</td>\n",
       "    </tr>\n",
       "    <tr>\n",
       "      <th>10</th>\n",
       "      <td>Gostinitsa \"Diyar\"</td>\n",
       "      <td>Ushtobe</td>\n",
       "      <td>KZ</td>\n",
       "      <td>45.237791</td>\n",
       "      <td>77.969713</td>\n",
       "    </tr>\n",
       "    <tr>\n",
       "      <th>11</th>\n",
       "      <td>\"Plantation Bed and Breakfast</td>\n",
       "      <td>Saint-Joseph</td>\n",
       "      <td>RE</td>\n",
       "      <td>-21.360692</td>\n",
       "      <td>55.630687</td>\n",
       "    </tr>\n",
       "    <tr>\n",
       "      <th>12</th>\n",
       "      <td>The Nesbitt Arms</td>\n",
       "      <td>Chiredzi</td>\n",
       "      <td>ZW</td>\n",
       "      <td>-21.046543</td>\n",
       "      <td>31.666551</td>\n",
       "    </tr>\n",
       "    <tr>\n",
       "      <th>13</th>\n",
       "      <td>Oceano</td>\n",
       "      <td>Maxixe</td>\n",
       "      <td>MZ</td>\n",
       "      <td>-23.861426</td>\n",
       "      <td>35.346690</td>\n",
       "    </tr>\n",
       "    <tr>\n",
       "      <th>14</th>\n",
       "      <td>Hotel del Comahue</td>\n",
       "      <td>Neuquén</td>\n",
       "      <td>AR</td>\n",
       "      <td>-38.951079</td>\n",
       "      <td>-68.058805</td>\n",
       "    </tr>\n",
       "    <tr>\n",
       "      <th>15</th>\n",
       "      <td>Hotel Alexandre</td>\n",
       "      <td>Dom Pedrito</td>\n",
       "      <td>BR</td>\n",
       "      <td>-30.983877</td>\n",
       "      <td>-54.675418</td>\n",
       "    </tr>\n",
       "  </tbody>\n",
       "</table>\n",
       "</div>"
      ],
      "text/plain": [
       "                       Hotel Name            City Country        Lat  \\\n",
       "0      Holiday Inn Express Lompoc          Lompoc      US  34.662502   \n",
       "1            ibis Styles Karratha        Karratha      AU -20.732225   \n",
       "2               Nuevo Hotel Plaza            Chui      UY -33.694177   \n",
       "3                          Oceano       Inhambane      MZ -23.861426   \n",
       "4                 Guangzhou Hotel       Guangzhou      CN  23.115819   \n",
       "5                        OlusHome      Kiryat Gat      IL  31.613093   \n",
       "6    Chambres d'hôte \"La Trinité\"  Saint-Philippe      RE -21.358434   \n",
       "7                Hotel Corregidor        La Plata      AR -34.915296   \n",
       "8                 Beleza Pura B&B           Rocha      UY -34.490105   \n",
       "9                   Hotel del Sur     San Lorenzo      PY -25.335532   \n",
       "10             Gostinitsa \"Diyar\"         Ushtobe      KZ  45.237791   \n",
       "11  \"Plantation Bed and Breakfast    Saint-Joseph      RE -21.360692   \n",
       "12               The Nesbitt Arms        Chiredzi      ZW -21.046543   \n",
       "13                         Oceano          Maxixe      MZ -23.861426   \n",
       "14              Hotel del Comahue         Neuquén      AR -38.951079   \n",
       "15                Hotel Alexandre     Dom Pedrito      BR -30.983877   \n",
       "\n",
       "           Lng  \n",
       "0  -120.458466  \n",
       "1   116.846744  \n",
       "2   -53.455633  \n",
       "3    35.346690  \n",
       "4   113.265594  \n",
       "5    34.716021  \n",
       "6    55.770322  \n",
       "7   -57.946396  \n",
       "8   -54.322433  \n",
       "9   -57.531631  \n",
       "10   77.969713  \n",
       "11   55.630687  \n",
       "12   31.666551  \n",
       "13   35.346690  \n",
       "14  -68.058805  \n",
       "15  -54.675418  "
      ]
     },
     "execution_count": 14,
     "metadata": {},
     "output_type": "execute_result"
    }
   ],
   "source": [
    "hotel_df = ideal_cities_df[['City', 'Country']]\n",
    "hotel_df.insert(0, 'Hotel Name', hotel_name)\n",
    "hotel_df.insert(len(hotel_df.columns), 'Lat', hotel_lat)\n",
    "hotel_df.insert(len(hotel_df.columns), 'Lng', hotel_lng)\n",
    "\n",
    "hotel_df"
   ]
  },
  {
   "cell_type": "code",
   "execution_count": 15,
   "metadata": {},
   "outputs": [],
   "source": [
    "# NOTE: Do not change any of the code in this cell\n",
    "\n",
    "# Using the template add the hotel marks to the heatmap\n",
    "info_box_template = \"\"\"\n",
    "<dl>\n",
    "<dt>Name</dt><dd>{Hotel Name}</dd>\n",
    "<dt>City</dt><dd>{City}</dd>\n",
    "<dt>Country</dt><dd>{Country}</dd>\n",
    "</dl>\n",
    "\"\"\"\n",
    "# Store the DataFrame Row\n",
    "# NOTE: be sure to update with your DataFrame name\n",
    "hotel_info = [info_box_template.format(**row) for index, row in hotel_df.iterrows()]\n",
    "locations = hotel_df[[\"Lat\", \"Lng\"]]"
   ]
  },
  {
   "cell_type": "code",
   "execution_count": 16,
   "metadata": {},
   "outputs": [
    {
     "data": {
      "application/vnd.jupyter.widget-view+json": {
       "model_id": "1fe3120afa9e42cb9b12efd4d5df1e78",
       "version_major": 2,
       "version_minor": 0
      },
      "text/plain": [
       "Figure(layout=FigureLayout(height='420px'))"
      ]
     },
     "metadata": {},
     "output_type": "display_data"
    }
   ],
   "source": [
    "# Add marker layer ontop of heat map\n",
    "marker_layer = gmaps.marker_layer(locations, info_box_content=hotel_info)\n",
    "fig.add_layer(marker_layer)\n",
    "\n",
    "# Display figure\n",
    "fig"
   ]
  },
  {
   "cell_type": "code",
   "execution_count": null,
   "metadata": {},
   "outputs": [],
   "source": []
  }
 ],
 "metadata": {
  "kernelspec": {
   "display_name": "Python 3",
   "language": "python",
   "name": "python3"
  },
  "language_info": {
   "codemirror_mode": {
    "name": "ipython",
    "version": 3
   },
   "file_extension": ".py",
   "mimetype": "text/x-python",
   "name": "python",
   "nbconvert_exporter": "python",
   "pygments_lexer": "ipython3",
   "version": "3.8.8"
  },
  "latex_envs": {
   "LaTeX_envs_menu_present": true,
   "autoclose": false,
   "autocomplete": true,
   "bibliofile": "biblio.bib",
   "cite_by": "apalike",
   "current_citInitial": 1,
   "eqLabelWithNumbers": true,
   "eqNumInitial": 1,
   "hotkeys": {
    "equation": "Ctrl-E",
    "itemize": "Ctrl-I"
   },
   "labels_anchors": false,
   "latex_user_defs": false,
   "report_style_numbering": false,
   "user_envs_cfg": false
  }
 },
 "nbformat": 4,
 "nbformat_minor": 4
}

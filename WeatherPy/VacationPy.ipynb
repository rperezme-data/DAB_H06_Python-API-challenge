{
 "cells": [
  {
   "cell_type": "markdown",
   "metadata": {},
   "source": [
    "# VacationPy\n",
    "----\n",
    "\n",
    "#### Note\n",
    "* Keep an eye on your API usage. Use https://developers.google.com/maps/reporting/gmp-reporting as reference for how to monitor your usage and billing.\n",
    "\n",
    "* Instructions have been included for each segment. You do not have to follow them exactly, but they are included to help you think through the steps."
   ]
  },
  {
   "cell_type": "code",
   "execution_count": 1,
   "metadata": {},
   "outputs": [],
   "source": [
    "# Dependencies and Setup\n",
    "import matplotlib.pyplot as plt\n",
    "import pandas as pd\n",
    "import numpy as np\n",
    "import requests\n",
    "import gmaps\n",
    "import os\n",
    "\n",
    "# Import API key\n",
    "from api_keys import g_key"
   ]
  },
  {
   "cell_type": "markdown",
   "metadata": {},
   "source": [
    "### Store Part I results into DataFrame\n",
    "* Load the csv exported in Part I to a DataFrame"
   ]
  },
  {
   "cell_type": "code",
   "execution_count": 2,
   "metadata": {},
   "outputs": [],
   "source": [
    "## Load Cities.csv as DataFrame\n",
    "cities_df = pd.read_csv('Output/Cities.csv')"
   ]
  },
  {
   "cell_type": "markdown",
   "metadata": {},
   "source": [
    "### Humidity Heatmap\n",
    "* Configure gmaps.\n",
    "* Use the Lat and Lng as locations and Humidity as the weight.\n",
    "* Add Heatmap layer to map."
   ]
  },
  {
   "cell_type": "code",
   "execution_count": 3,
   "metadata": {},
   "outputs": [],
   "source": [
    "## Configure gmaps with API key\n",
    "gmaps.configure(api_key=g_key)"
   ]
  },
  {
   "cell_type": "code",
   "execution_count": 4,
   "metadata": {},
   "outputs": [
    {
     "data": {
      "text/plain": [
       "float"
      ]
     },
     "execution_count": 4,
     "metadata": {},
     "output_type": "execute_result"
    }
   ],
   "source": [
    "locations = cities_df[['Lat', 'Lng']].values.tolist()\n",
    "type(locations[0][0])"
   ]
  },
  {
   "cell_type": "code",
   "execution_count": 5,
   "metadata": {},
   "outputs": [
    {
     "data": {
      "text/plain": [
       "100"
      ]
     },
     "execution_count": 5,
     "metadata": {},
     "output_type": "execute_result"
    }
   ],
   "source": [
    "max_humidity = cities_df['Humidity'].max()\n",
    "max_humidity"
   ]
  },
  {
   "cell_type": "code",
   "execution_count": 6,
   "metadata": {},
   "outputs": [
    {
     "data": {
      "application/vnd.jupyter.widget-view+json": {
       "model_id": "87f665f5f8a94791817f158e1088eceb",
       "version_major": 2,
       "version_minor": 0
      },
      "text/plain": [
       "Figure(layout=FigureLayout(height='420px'))"
      ]
     },
     "metadata": {},
     "output_type": "display_data"
    }
   ],
   "source": [
    "fig = gmaps.figure(center=(15,15), zoom_level=2.1)\n",
    "\n",
    "locations = cities_df[['Lat', 'Lng']].values.tolist()\n",
    "weights = cities_df['Humidity'].values.tolist()\n",
    "max_humidity = cities_df['Humidity'].max()\n",
    "\n",
    "heat_layer = gmaps.heatmap_layer(\n",
    "    locations=locations,\n",
    "    weights=weights,\n",
    "    dissipating=False,\n",
    "    max_intensity=max_humidity,\n",
    "    point_radius = 3\n",
    ")\n",
    "\n",
    "fig.add_layer(heat_layer)\n",
    "fig"
   ]
  },
  {
   "cell_type": "markdown",
   "metadata": {},
   "source": [
    "### Create new DataFrame fitting weather criteria\n",
    "* Narrow down the cities to fit weather conditions.\n",
    "* Drop any rows will null values."
   ]
  },
  {
   "cell_type": "code",
   "execution_count": 7,
   "metadata": {},
   "outputs": [
    {
     "data": {
      "text/plain": [
       "592"
      ]
     },
     "execution_count": 7,
     "metadata": {},
     "output_type": "execute_result"
    }
   ],
   "source": [
    "len(cities_df)"
   ]
  },
  {
   "cell_type": "code",
   "execution_count": 8,
   "metadata": {},
   "outputs": [],
   "source": [
    "ideal_conditions = (cities_df['Max Temp'] > 70) & \\\n",
    "                   (cities_df['Max Temp'] < 80) & \\\n",
    "                   (cities_df['Wind Speed'] < 10) & \\\n",
    "                   (cities_df['Cloudiness'] == 0)"
   ]
  },
  {
   "cell_type": "code",
   "execution_count": 9,
   "metadata": {},
   "outputs": [
    {
     "data": {
      "text/plain": [
       "8"
      ]
     },
     "execution_count": 9,
     "metadata": {},
     "output_type": "execute_result"
    }
   ],
   "source": [
    "sum(ideal_conditions)"
   ]
  },
  {
   "cell_type": "code",
   "execution_count": 10,
   "metadata": {},
   "outputs": [],
   "source": [
    "ideal_cities_df = cities_df[['City', 'Country', 'Lat', 'Lng']].loc[ideal_conditions]\n",
    "ideal_cities_df.reset_index(drop=True, inplace=True)\n",
    "ideal_cities_df.dropna(axis=0, inplace=True)"
   ]
  },
  {
   "cell_type": "code",
   "execution_count": 11,
   "metadata": {},
   "outputs": [
    {
     "data": {
      "text/html": [
       "<div>\n",
       "<style scoped>\n",
       "    .dataframe tbody tr th:only-of-type {\n",
       "        vertical-align: middle;\n",
       "    }\n",
       "\n",
       "    .dataframe tbody tr th {\n",
       "        vertical-align: top;\n",
       "    }\n",
       "\n",
       "    .dataframe thead th {\n",
       "        text-align: right;\n",
       "    }\n",
       "</style>\n",
       "<table border=\"1\" class=\"dataframe\">\n",
       "  <thead>\n",
       "    <tr style=\"text-align: right;\">\n",
       "      <th></th>\n",
       "      <th>City</th>\n",
       "      <th>Country</th>\n",
       "      <th>Lat</th>\n",
       "      <th>Lng</th>\n",
       "    </tr>\n",
       "  </thead>\n",
       "  <tbody>\n",
       "    <tr>\n",
       "      <th>0</th>\n",
       "      <td>Samandağ</td>\n",
       "      <td>TR</td>\n",
       "      <td>36.0842</td>\n",
       "      <td>35.9771</td>\n",
       "    </tr>\n",
       "    <tr>\n",
       "      <th>1</th>\n",
       "      <td>Yining</td>\n",
       "      <td>CN</td>\n",
       "      <td>29.0361</td>\n",
       "      <td>114.5636</td>\n",
       "    </tr>\n",
       "    <tr>\n",
       "      <th>2</th>\n",
       "      <td>Giyani</td>\n",
       "      <td>ZA</td>\n",
       "      <td>-23.3025</td>\n",
       "      <td>30.7187</td>\n",
       "    </tr>\n",
       "    <tr>\n",
       "      <th>3</th>\n",
       "      <td>Qurayyat</td>\n",
       "      <td>SA</td>\n",
       "      <td>31.3318</td>\n",
       "      <td>37.3428</td>\n",
       "    </tr>\n",
       "    <tr>\n",
       "      <th>4</th>\n",
       "      <td>Jingdezhen</td>\n",
       "      <td>CN</td>\n",
       "      <td>29.2947</td>\n",
       "      <td>117.2079</td>\n",
       "    </tr>\n",
       "    <tr>\n",
       "      <th>5</th>\n",
       "      <td>Broken Hill</td>\n",
       "      <td>AU</td>\n",
       "      <td>-31.9500</td>\n",
       "      <td>141.4333</td>\n",
       "    </tr>\n",
       "    <tr>\n",
       "      <th>6</th>\n",
       "      <td>Antakya</td>\n",
       "      <td>TR</td>\n",
       "      <td>36.2066</td>\n",
       "      <td>36.1572</td>\n",
       "    </tr>\n",
       "    <tr>\n",
       "      <th>7</th>\n",
       "      <td>Yicheng</td>\n",
       "      <td>CN</td>\n",
       "      <td>31.3705</td>\n",
       "      <td>119.8703</td>\n",
       "    </tr>\n",
       "  </tbody>\n",
       "</table>\n",
       "</div>"
      ],
      "text/plain": [
       "          City Country      Lat       Lng\n",
       "0     Samandağ      TR  36.0842   35.9771\n",
       "1       Yining      CN  29.0361  114.5636\n",
       "2       Giyani      ZA -23.3025   30.7187\n",
       "3     Qurayyat      SA  31.3318   37.3428\n",
       "4   Jingdezhen      CN  29.2947  117.2079\n",
       "5  Broken Hill      AU -31.9500  141.4333\n",
       "6      Antakya      TR  36.2066   36.1572\n",
       "7      Yicheng      CN  31.3705  119.8703"
      ]
     },
     "execution_count": 11,
     "metadata": {},
     "output_type": "execute_result"
    }
   ],
   "source": [
    "ideal_cities_df"
   ]
  },
  {
   "cell_type": "markdown",
   "metadata": {},
   "source": [
    "### Hotel Map\n",
    "* Store into variable named `hotel_df`.\n",
    "* Add a \"Hotel Name\" column to the DataFrame.\n",
    "* Set parameters to search for hotels with 5000 meters.\n",
    "* Hit the Google Places API for each city's coordinates.\n",
    "* Store the first Hotel result into the DataFrame.\n",
    "* Plot markers on top of the heatmap."
   ]
  },
  {
   "cell_type": "code",
   "execution_count": 12,
   "metadata": {},
   "outputs": [],
   "source": [
    "## GOOGLE MAPS API\n",
    "\n",
    "## Nearby Search URL\n",
    "nearby_url = \"https://maps.googleapis.com/maps/api/place/nearbysearch/json\"\n",
    "\n",
    "## Nearby Search Parameters\n",
    "params = {\n",
    "    'key': g_key,\n",
    "    'radius': 5000,\n",
    "    'type': \"lodging\",\n",
    "    'language': \"en\"\n",
    "}"
   ]
  },
  {
   "cell_type": "code",
   "execution_count": 13,
   "metadata": {},
   "outputs": [
    {
     "name": "stdout",
     "output_type": "stream",
     "text": [
      "Beginning Data Retrieval\n",
      "------------------------------\n",
      "Processing Samandağ:\n",
      " - First hotel is Anadolu Palace Hotel\n",
      "Processing Yining:\n",
      " - First hotel is Xiushui Hotel\n",
      "Processing Giyani:\n",
      " - First hotel is Kulani Country Lodge\n",
      "Processing Qurayyat:\n",
      " - First hotel is Mozon Furnished Aprtments\n",
      "Processing Jingdezhen:\n",
      " - First hotel is Garden Hotel\n",
      "Processing Broken Hill:\n",
      " - First hotel is Royal Exchange Hotel\n",
      "Processing Antakya:\n",
      " - First hotel is The Liwan Hotel\n",
      "Processing Yicheng:\n",
      " - First hotel is GreenTree Alliance Wuxi Yixing Jinyizhong Road Chengbei RT-Market Hotel\n",
      "------------------------------\n",
      "Data Retrieval Complete\n",
      "------------------------------\n"
     ]
    }
   ],
   "source": [
    "hotel_name = []\n",
    "hotel_lat = []\n",
    "hotel_lng = []\n",
    "\n",
    "## Print Log Header\n",
    "print(\"Beginning Data Retrieval\")\n",
    "print(\"------------------------------\")\n",
    "\n",
    "for index, row in ideal_cities_df.iterrows():\n",
    "    params['location'] = f\"{row['Lat']},{row['Lng']}\"\n",
    "    response = requests.get(nearby_url, params=params).json()\n",
    "    first_result = response['results'][0]\n",
    "    \n",
    "    print(f\"Processing {row['City']}:\")\n",
    "    \n",
    "    try:\n",
    "        print(f\" - First hotel is {first_result['name']}\")\n",
    "        hotel_name.append(first_result['name'])\n",
    "        hotel_lat.append(first_result['geometry']['location']['lat'])\n",
    "        hotel_lng.append(first_result['geometry']['location']['lng'])\n",
    "\n",
    "    except (KeyError, IndexError):\n",
    "        print(\"- Missing field/result... skipping.\")\n",
    "        \n",
    "## Print Log Footer\n",
    "print(\"------------------------------\")        \n",
    "print(\"Data Retrieval Complete\")\n",
    "print(\"------------------------------\")"
   ]
  },
  {
   "cell_type": "code",
   "execution_count": 14,
   "metadata": {},
   "outputs": [
    {
     "data": {
      "text/html": [
       "<div>\n",
       "<style scoped>\n",
       "    .dataframe tbody tr th:only-of-type {\n",
       "        vertical-align: middle;\n",
       "    }\n",
       "\n",
       "    .dataframe tbody tr th {\n",
       "        vertical-align: top;\n",
       "    }\n",
       "\n",
       "    .dataframe thead th {\n",
       "        text-align: right;\n",
       "    }\n",
       "</style>\n",
       "<table border=\"1\" class=\"dataframe\">\n",
       "  <thead>\n",
       "    <tr style=\"text-align: right;\">\n",
       "      <th></th>\n",
       "      <th>Hotel Name</th>\n",
       "      <th>City</th>\n",
       "      <th>Country</th>\n",
       "      <th>Lat</th>\n",
       "      <th>Lng</th>\n",
       "    </tr>\n",
       "  </thead>\n",
       "  <tbody>\n",
       "    <tr>\n",
       "      <th>0</th>\n",
       "      <td>Anadolu Palace Hotel</td>\n",
       "      <td>Samandağ</td>\n",
       "      <td>TR</td>\n",
       "      <td>36.081699</td>\n",
       "      <td>35.947641</td>\n",
       "    </tr>\n",
       "    <tr>\n",
       "      <th>1</th>\n",
       "      <td>Xiushui Hotel</td>\n",
       "      <td>Yining</td>\n",
       "      <td>CN</td>\n",
       "      <td>29.031062</td>\n",
       "      <td>114.573041</td>\n",
       "    </tr>\n",
       "    <tr>\n",
       "      <th>2</th>\n",
       "      <td>Kulani Country Lodge</td>\n",
       "      <td>Giyani</td>\n",
       "      <td>ZA</td>\n",
       "      <td>-23.308243</td>\n",
       "      <td>30.685959</td>\n",
       "    </tr>\n",
       "    <tr>\n",
       "      <th>3</th>\n",
       "      <td>Mozon Furnished Aprtments</td>\n",
       "      <td>Qurayyat</td>\n",
       "      <td>SA</td>\n",
       "      <td>31.339827</td>\n",
       "      <td>37.327837</td>\n",
       "    </tr>\n",
       "    <tr>\n",
       "      <th>4</th>\n",
       "      <td>Garden Hotel</td>\n",
       "      <td>Jingdezhen</td>\n",
       "      <td>CN</td>\n",
       "      <td>29.288565</td>\n",
       "      <td>117.194128</td>\n",
       "    </tr>\n",
       "    <tr>\n",
       "      <th>5</th>\n",
       "      <td>Royal Exchange Hotel</td>\n",
       "      <td>Broken Hill</td>\n",
       "      <td>AU</td>\n",
       "      <td>-31.957779</td>\n",
       "      <td>141.465727</td>\n",
       "    </tr>\n",
       "    <tr>\n",
       "      <th>6</th>\n",
       "      <td>The Liwan Hotel</td>\n",
       "      <td>Antakya</td>\n",
       "      <td>TR</td>\n",
       "      <td>36.198883</td>\n",
       "      <td>36.160747</td>\n",
       "    </tr>\n",
       "    <tr>\n",
       "      <th>7</th>\n",
       "      <td>GreenTree Alliance Wuxi Yixing Jinyizhong Road...</td>\n",
       "      <td>Yicheng</td>\n",
       "      <td>CN</td>\n",
       "      <td>31.365135</td>\n",
       "      <td>119.839492</td>\n",
       "    </tr>\n",
       "  </tbody>\n",
       "</table>\n",
       "</div>"
      ],
      "text/plain": [
       "                                          Hotel Name         City Country  \\\n",
       "0                               Anadolu Palace Hotel     Samandağ      TR   \n",
       "1                                      Xiushui Hotel       Yining      CN   \n",
       "2                               Kulani Country Lodge       Giyani      ZA   \n",
       "3                          Mozon Furnished Aprtments     Qurayyat      SA   \n",
       "4                                       Garden Hotel   Jingdezhen      CN   \n",
       "5                               Royal Exchange Hotel  Broken Hill      AU   \n",
       "6                                    The Liwan Hotel      Antakya      TR   \n",
       "7  GreenTree Alliance Wuxi Yixing Jinyizhong Road...      Yicheng      CN   \n",
       "\n",
       "         Lat         Lng  \n",
       "0  36.081699   35.947641  \n",
       "1  29.031062  114.573041  \n",
       "2 -23.308243   30.685959  \n",
       "3  31.339827   37.327837  \n",
       "4  29.288565  117.194128  \n",
       "5 -31.957779  141.465727  \n",
       "6  36.198883   36.160747  \n",
       "7  31.365135  119.839492  "
      ]
     },
     "execution_count": 14,
     "metadata": {},
     "output_type": "execute_result"
    }
   ],
   "source": [
    "hotel_df = ideal_cities_df[['City', 'Country']]\n",
    "hotel_df.insert(0, 'Hotel Name', hotel_name)\n",
    "hotel_df.insert(len(hotel_df.columns), 'Lat', hotel_lat)\n",
    "hotel_df.insert(len(hotel_df.columns), 'Lng', hotel_lng)\n",
    "\n",
    "hotel_df"
   ]
  },
  {
   "cell_type": "code",
   "execution_count": 15,
   "metadata": {},
   "outputs": [],
   "source": [
    "# NOTE: Do not change any of the code in this cell\n",
    "\n",
    "# Using the template add the hotel marks to the heatmap\n",
    "info_box_template = \"\"\"\n",
    "<dl>\n",
    "<dt>Name</dt><dd>{Hotel Name}</dd>\n",
    "<dt>City</dt><dd>{City}</dd>\n",
    "<dt>Country</dt><dd>{Country}</dd>\n",
    "</dl>\n",
    "\"\"\"\n",
    "# Store the DataFrame Row\n",
    "# NOTE: be sure to update with your DataFrame name\n",
    "hotel_info = [info_box_template.format(**row) for index, row in hotel_df.iterrows()]\n",
    "locations = hotel_df[[\"Lat\", \"Lng\"]]"
   ]
  },
  {
   "cell_type": "code",
   "execution_count": 18,
   "metadata": {},
   "outputs": [
    {
     "data": {
      "application/vnd.jupyter.widget-view+json": {
       "model_id": "87f665f5f8a94791817f158e1088eceb",
       "version_major": 2,
       "version_minor": 0
      },
      "text/plain": [
       "Figure(layout=FigureLayout(height='420px'))"
      ]
     },
     "metadata": {},
     "output_type": "display_data"
    }
   ],
   "source": [
    "# Add marker layer ontop of heat map\n",
    "marker_layer = gmaps.marker_layer(locations, info_box_content=hotel_info)\n",
    "fig.add_layer(marker_layer)\n",
    "\n",
    "# Display figure\n",
    "fig"
   ]
  },
  {
   "cell_type": "code",
   "execution_count": null,
   "metadata": {},
   "outputs": [],
   "source": []
  }
 ],
 "metadata": {
  "kernelspec": {
   "display_name": "Python 3",
   "language": "python",
   "name": "python3"
  },
  "language_info": {
   "codemirror_mode": {
    "name": "ipython",
    "version": 3
   },
   "file_extension": ".py",
   "mimetype": "text/x-python",
   "name": "python",
   "nbconvert_exporter": "python",
   "pygments_lexer": "ipython3",
   "version": "3.8.8"
  },
  "latex_envs": {
   "LaTeX_envs_menu_present": true,
   "autoclose": false,
   "autocomplete": true,
   "bibliofile": "biblio.bib",
   "cite_by": "apalike",
   "current_citInitial": 1,
   "eqLabelWithNumbers": true,
   "eqNumInitial": 1,
   "hotkeys": {
    "equation": "Ctrl-E",
    "itemize": "Ctrl-I"
   },
   "labels_anchors": false,
   "latex_user_defs": false,
   "report_style_numbering": false,
   "user_envs_cfg": false
  }
 },
 "nbformat": 4,
 "nbformat_minor": 4
}
